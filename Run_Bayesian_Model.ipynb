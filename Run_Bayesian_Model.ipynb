{
 "cells": [
  {
   "cell_type": "markdown",
   "metadata": {},
   "source": [
    "# Bayesian Model for COVID-19 infection rate"
   ]
  },
  {
   "cell_type": "markdown",
   "metadata": {},
   "source": [
    "### by Piotr Morawiecki, Dan Burrows, Tina Zhou, Laura Oporto"
   ]
  },
  {
   "cell_type": "markdown",
   "metadata": {},
   "source": [
    "The code allows us to estimate posteriors distributions of chosen set of model parameters using INLA (INtegrated Laplace Approximation) package based on data for the United States. This package computes posterior distribution by approximated numerical integration instead of using MCMC to generate sample from the posterior distribution, which reduces computation time.\n",
    "\n",
    "There are five basic models to choose from, but it is easy to implement other models as well. The code allows to plot the 95% confidence intervals for values of each parameter and the resultant effect of each covartiate on the infection rate.\n",
    "\n",
    "To use the code we need to set working directory to \"USA_Bayesian_Framework\" and source functions from INLA_Bayesian_Framework.R file."
   ]
  },
  {
   "cell_type": "code",
   "execution_count": 1,
   "metadata": {},
   "outputs": [
    {
     "name": "stderr",
     "output_type": "stream",
     "text": [
      "Loading required package: INLA\n",
      "Loading required package: Matrix\n",
      "Loading required package: sp\n",
      "Warning message:\n",
      "\"package 'sp' was built under R version 3.6.2\"Loading required package: parallel\n",
      "This is INLA_19.09.03 built 2019-09-03 09:03:02 UTC.\n",
      "See www.r-inla.org/contact-us for how to get help.\n",
      "Loading required package: ggplot2\n",
      "Warning message:\n",
      "\"package 'ggplot2' was built under R version 3.6.2\""
     ]
    }
   ],
   "source": [
    "setwd(\"USA_Bayesian_Framework\")\n",
    "source(\"INLA_Bayesian_Framework.R\")"
   ]
  },
  {
   "cell_type": "markdown",
   "metadata": {},
   "source": [
    "The default models can be imported using load_default_model function with argument model being integer number from 1 to 5.\n",
    "\n",
    "There are five models that were used to obtained data from the code documentation on GitHub. Models 1-4 describe the impact of Air Quality Index (averaged over 2 weeks, 2 months, 1 year and 4 years, respectively). Model 5 describes the impact of each pollutant separately.\n"
   ]
  },
  {
   "cell_type": "code",
   "execution_count": 2,
   "metadata": {},
   "outputs": [],
   "source": [
    "settings <- load_default_model(model=3)"
   ]
  },
  {
   "cell_type": "markdown",
   "metadata": {},
   "source": [
    "To run Bayesian inference for given model we use run_Bayesian_model function. The input arguments are provided by the load_default_model function."
   ]
  },
  {
   "cell_type": "code",
   "execution_count": 3,
   "metadata": {},
   "outputs": [
    {
     "name": "stdout",
     "output_type": "stream",
     "text": [
      "[1] \"The INLA data set consist of 5920 records.\"\n",
      "[1] \"The results are exported to INLA_results//Model_3_deaths_poisson directory.\"\n"
     ]
    }
   ],
   "source": [
    "results <- run_Bayesian_model(settings$formula, settings$use_weekly, settings$use_deaths,\n",
    "                              settings$use_Poisson, settings$output_folder)"
   ]
  },
  {
   "cell_type": "markdown",
   "metadata": {},
   "source": [
    "Alternatively we can create our own model by providing the following arguments:\n",
    "\n",
    "#### formula\n",
    "\n",
    "Formula should include the model for the logarithm of infection rate. It is modelled as linear combination of county's population and environmental descriptors. f(id) represents spatial random effects, f(day) represents temporal random effects and f(rowId) represents the remaining random effects (model=\"idd\" are independent and identically distributed random variables, and model=\"ar1\" is an autoregressive model of order 1).\n",
    "\n",
    "#### use_weekly\n",
    "\n",
    "Allows to use weekly averaged data to reduce the size of input dataset (and time needed to perform Bayesian inference). Set use_weekly to TRUE if INLA_computation takes too much time. Otherwise it is recommended to use daily data by setting use_weekly to FALSE.\n",
    "\n",
    "#### use_deaths\n",
    "\n",
    "There are two possible COVID-19 descriptors - cases and deaths. To use deaths data set use_deaths to TRUE. To use cases data set deaths to FALSE. There are more days with confirmed cases data, but these data are biased as the number of COVID tests may vary. Less data with deaths are available, but it is more reliable.\n",
    "\n",
    "#### use_Poisson\n",
    "\n",
    "To use Poisson distrobution set use_Poisson to TRUE. To use negative binomial distrobution set use_Poisson to FALSE.\n",
    "\n",
    "#### output_folder\n",
    "\n",
    "Name of the directory, where all output files and figures are saved."
   ]
  },
  {
   "cell_type": "code",
   "execution_count": 4,
   "metadata": {},
   "outputs": [
    {
     "name": "stdout",
     "output_type": "stream",
     "text": [
      "[1] \"The INLA data set consist of 5920 records.\"\n",
      "[1] \"The results are exported to INLA_results//Model_1_deaths_poisson directory.\"\n"
     ]
    }
   ],
   "source": [
    "formula       <- new_cases ~ AQI_2019 + popdensity + f(id, model = \"iid\") +  f(day, model = \"ar1\") + f(rowId, model = \"iid\")\n",
    "use_weekly    <- TRUE\n",
    "use_deaths    <- TRUE\n",
    "use_Poisson   <- TRUE\n",
    "output_folder <- \"INLA_results//Model_1_deaths_poisson\"\n",
    "\n",
    "results <- run_Bayesian_model(formula, use_weekly, use_deaths, use_Poisson, output_folder)"
   ]
  },
  {
   "cell_type": "markdown",
   "metadata": {},
   "source": [
    "The inference results are save in results\\\\$INLA_result object. The summary statistics of posterior distribution for each fixed parameter in the model is stored in results\\\\$INLA_result$summary.fixed. Note that all covariates are normalised before applying Bayesian inference to allow to easily compare the relative effect of each covariate on the infection rate. We can find the mean and variation of each covariate before the normalisation in results\\\\$data_statistics object.\n",
    "\n",
    "The full model summary can be accessed using the command summary(results$INLA_result)."
   ]
  },
  {
   "cell_type": "code",
   "execution_count": 5,
   "metadata": {},
   "outputs": [
    {
     "data": {
      "text/html": [
       "<table>\n",
       "<thead><tr><th></th><th scope=col>mean</th><th scope=col>sd</th><th scope=col>0.025quant</th><th scope=col>0.5quant</th><th scope=col>0.975quant</th><th scope=col>mode</th><th scope=col>kld</th></tr></thead>\n",
       "<tbody>\n",
       "\t<tr><th scope=row>(Intercept)</th><td>-0.8533147  </td><td>0.96452974  </td><td>-2.74703863 </td><td>-0.85332877 </td><td>1.03872954  </td><td>-0.85327489 </td><td>9.166408e-08</td></tr>\n",
       "\t<tr><th scope=row>AQI_2019</th><td> 0.1216565  </td><td>0.02544684  </td><td> 0.07178500 </td><td> 0.12162484 </td><td>0.17165787  </td><td> 0.12156364 </td><td>9.848996e-07</td></tr>\n",
       "\t<tr><th scope=row>popdensity</th><td> 0.0101279  </td><td>0.02381583  </td><td>-0.03663066 </td><td> 0.01012732 </td><td>0.05684656  </td><td> 0.01012817 </td><td>3.929449e-08</td></tr>\n",
       "</tbody>\n",
       "</table>\n"
      ],
      "text/latex": [
       "\\begin{tabular}{r|lllllll}\n",
       "  & mean & sd & 0.025quant & 0.5quant & 0.975quant & mode & kld\\\\\n",
       "\\hline\n",
       "\t(Intercept) & -0.8533147   & 0.96452974   & -2.74703863  & -0.85332877  & 1.03872954   & -0.85327489  & 9.166408e-08\\\\\n",
       "\tAQI\\_2019 &  0.1216565   & 0.02544684   &  0.07178500  &  0.12162484  & 0.17165787   &  0.12156364  & 9.848996e-07\\\\\n",
       "\tpopdensity &  0.0101279   & 0.02381583   & -0.03663066  &  0.01012732  & 0.05684656   &  0.01012817  & 3.929449e-08\\\\\n",
       "\\end{tabular}\n"
      ],
      "text/markdown": [
       "\n",
       "| <!--/--> | mean | sd | 0.025quant | 0.5quant | 0.975quant | mode | kld |\n",
       "|---|---|---|---|---|---|---|---|\n",
       "| (Intercept) | -0.8533147   | 0.96452974   | -2.74703863  | -0.85332877  | 1.03872954   | -0.85327489  | 9.166408e-08 |\n",
       "| AQI_2019 |  0.1216565   | 0.02544684   |  0.07178500  |  0.12162484  | 0.17165787   |  0.12156364  | 9.848996e-07 |\n",
       "| popdensity |  0.0101279   | 0.02381583   | -0.03663066  |  0.01012732  | 0.05684656   |  0.01012817  | 3.929449e-08 |\n",
       "\n"
      ],
      "text/plain": [
       "            mean       sd         0.025quant  0.5quant    0.975quant\n",
       "(Intercept) -0.8533147 0.96452974 -2.74703863 -0.85332877 1.03872954\n",
       "AQI_2019     0.1216565 0.02544684  0.07178500  0.12162484 0.17165787\n",
       "popdensity   0.0101279 0.02381583 -0.03663066  0.01012732 0.05684656\n",
       "            mode        kld         \n",
       "(Intercept) -0.85327489 9.166408e-08\n",
       "AQI_2019     0.12156364 9.848996e-07\n",
       "popdensity   0.01012817 3.929449e-08"
      ]
     },
     "metadata": {},
     "output_type": "display_data"
    }
   ],
   "source": [
    "results$INLA_result$summary.fixed"
   ]
  },
  {
   "cell_type": "markdown",
   "metadata": {},
   "source": [
    "This summary can be also represented in a graphical form using plot_fixed_parameters function. The graph allows to easily understand the relative impact of each covriate on the infection rate and verify whether the results are statistically significant with a 95\\% confidence interval."
   ]
  },
  {
   "cell_type": "code",
   "execution_count": 6,
   "metadata": {},
   "outputs": [
    {
     "data": {
      "image/png": "[encoded data removed]",
      "text/plain": [
       "plot without title"
      ]
     },
     "metadata": {},
     "output_type": "display_data"
    }
   ],
   "source": [
    "options(repr.plot.width=6, repr.plot.height=3)\n",
    "plot_fixed_parameters(results$INLA_result, settings$output_folder)"
   ]
  },
  {
   "cell_type": "markdown",
   "metadata": {},
   "source": [
    "To find the effect of each covariate on the infection rate we can use plot_covariates_effect. It can allow to easily assess how the infection rate may be affected by a change in a given variable (such as air pollution) The 90\\% confidence interval is represented by the light grey area and 50\\% confidence interval by the dark grey area. The intervals are obtained by sampling model parameters from their posterior distribution n_sims times."
   ]
  },
  {
   "cell_type": "code",
   "execution_count": 7,
   "metadata": {},
   "outputs": [
    {
     "data": {
      "image/png": "[encoded data removed]",
      "text/plain": [
       "plot without title"
      ]
     },
     "metadata": {},
     "output_type": "display_data"
    },
    {
     "data": {
      "image/png": "[encoded data removed]",
      "text/plain": [
       "plot without title"
      ]
     },
     "metadata": {},
     "output_type": "display_data"
    }
   ],
   "source": [
    "options(repr.plot.width=6, repr.plot.height=3)\n",
    "plot_covariates_effect(results$INLA_result, results$data_statistics, settings$use_weekly, settings$output_folder, n_sims=10000)"
   ]
  },
  {
   "cell_type": "markdown",
   "metadata": {},
   "source": [
    "In case of any questions, please contact pwm27@bath.ac.uk"
   ]
  }
 ],
 "metadata": {
  "kernelspec": {
   "display_name": "R",
   "language": "R",
   "name": "ir"
  },
  "language_info": {
   "codemirror_mode": "r",
   "file_extension": ".r",
   "mimetype": "text/x-r-source",
   "name": "R",
   "pygments_lexer": "r",
   "version": "3.6.1"
  }
 },
 "nbformat": 4,
 "nbformat_minor": 4
}
